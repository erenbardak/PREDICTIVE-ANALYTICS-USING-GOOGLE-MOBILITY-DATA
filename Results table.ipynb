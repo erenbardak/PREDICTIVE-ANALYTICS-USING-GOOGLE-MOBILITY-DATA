{
 "cells": [
  {
   "cell_type": "code",
   "execution_count": 1,
   "id": "italic-saudi",
   "metadata": {},
   "outputs": [],
   "source": [
    "import pandas as pd"
   ]
  },
  {
   "cell_type": "code",
   "execution_count": 2,
   "id": "solar-humanitarian",
   "metadata": {},
   "outputs": [],
   "source": [
    "p_cases = {\"Model\": [\"MA1\", \n",
    "                     \"MA2\", \n",
    "                     \"MA3\", \n",
    "                     \"MA3_LAG7\", \n",
    "                     \"MA7\", \n",
    "                     \"MA7_WEIGHTED\", \n",
    "                     \"MA7_LAG7\", \n",
    "                     \"MA7_LAG7_WEIGHTED\",\n",
    "                     \"ARIMA((1,8,15), 1, 0)\",\n",
    "                     \"MA1_LAG7\",\n",
    "                    ],\n",
    "           \n",
    "           \"MAPE\": [31.118702, \n",
    "                    36.516799, \n",
    "                    39.718155, \n",
    "                    21.385622, \n",
    "                    33.78979955347745, \n",
    "                    25.373541382119836,\n",
    "                    21.030497485696458,\n",
    "                    19.923766643166225,\n",
    "                    13.829561768558026,\n",
    "                   24.493535760208584,\n",
    "                   ],\n",
    "     \n",
    "            \"MSE\": [7574874.745406824, \n",
    "                    11944379.414473685, \n",
    "                    14991195.867487537, \n",
    "                    3717036.3070489834, \n",
    "                    9733491.132571427, \n",
    "                    4428578.540684799,\n",
    "                    4551671.954636202,\n",
    "                    3791657.2208423913,\n",
    "                    525227.8983486429,\n",
    "                   3800592.5187165774,\n",
    "                   ],\n",
    "\n",
    "            \"RMSE\": [2752.2490340459426, \n",
    "                     3456.064150804161, \n",
    "                     3871.8465707576192, \n",
    "                     1927.9616975056801, \n",
    "                     3119.8543447685865, \n",
    "                     2104.4188130419284,\n",
    "                     2133.464776985128,\n",
    "                     1947.2178154593778,\n",
    "                     724.7260850477529,\n",
    "                    1949.5108408820345,\n",
    "                    ]\n",
    "}"
   ]
  },
  {
   "cell_type": "markdown",
   "id": "respected-niger",
   "metadata": {},
   "source": [
    "# CASES"
   ]
  },
  {
   "cell_type": "code",
   "execution_count": 3,
   "id": "forbidden-september",
   "metadata": {},
   "outputs": [
    {
     "data": {
      "text/html": [
       "<style  type=\"text/css\" >\n",
       "</style><table id=\"T_ef987_\" ><thead>    <tr>        <th class=\"col_heading level0 col0\" >Model</th>        <th class=\"col_heading level0 col1\" >MAPE</th>        <th class=\"col_heading level0 col2\" >MSE</th>        <th class=\"col_heading level0 col3\" >RMSE</th>    </tr></thead><tbody>\n",
       "                <tr>\n",
       "                                <td id=\"T_ef987_row0_col0\" class=\"data row0 col0\" >ARIMA((1,8,15), 1, 0)</td>\n",
       "                        <td id=\"T_ef987_row0_col1\" class=\"data row0 col1\" >13.829562</td>\n",
       "                        <td id=\"T_ef987_row0_col2\" class=\"data row0 col2\" >525227.898349</td>\n",
       "                        <td id=\"T_ef987_row0_col3\" class=\"data row0 col3\" >724.726085</td>\n",
       "            </tr>\n",
       "            <tr>\n",
       "                                <td id=\"T_ef987_row1_col0\" class=\"data row1 col0\" >MA7_LAG7_WEIGHTED</td>\n",
       "                        <td id=\"T_ef987_row1_col1\" class=\"data row1 col1\" >19.923767</td>\n",
       "                        <td id=\"T_ef987_row1_col2\" class=\"data row1 col2\" >3791657.220842</td>\n",
       "                        <td id=\"T_ef987_row1_col3\" class=\"data row1 col3\" >1947.217815</td>\n",
       "            </tr>\n",
       "            <tr>\n",
       "                                <td id=\"T_ef987_row2_col0\" class=\"data row2 col0\" >MA7_LAG7</td>\n",
       "                        <td id=\"T_ef987_row2_col1\" class=\"data row2 col1\" >21.030497</td>\n",
       "                        <td id=\"T_ef987_row2_col2\" class=\"data row2 col2\" >4551671.954636</td>\n",
       "                        <td id=\"T_ef987_row2_col3\" class=\"data row2 col3\" >2133.464777</td>\n",
       "            </tr>\n",
       "            <tr>\n",
       "                                <td id=\"T_ef987_row3_col0\" class=\"data row3 col0\" >MA3_LAG7</td>\n",
       "                        <td id=\"T_ef987_row3_col1\" class=\"data row3 col1\" >21.385622</td>\n",
       "                        <td id=\"T_ef987_row3_col2\" class=\"data row3 col2\" >3717036.307049</td>\n",
       "                        <td id=\"T_ef987_row3_col3\" class=\"data row3 col3\" >1927.961698</td>\n",
       "            </tr>\n",
       "            <tr>\n",
       "                                <td id=\"T_ef987_row4_col0\" class=\"data row4 col0\" >MA1_LAG7</td>\n",
       "                        <td id=\"T_ef987_row4_col1\" class=\"data row4 col1\" >24.493536</td>\n",
       "                        <td id=\"T_ef987_row4_col2\" class=\"data row4 col2\" >3800592.518717</td>\n",
       "                        <td id=\"T_ef987_row4_col3\" class=\"data row4 col3\" >1949.510841</td>\n",
       "            </tr>\n",
       "            <tr>\n",
       "                                <td id=\"T_ef987_row5_col0\" class=\"data row5 col0\" >MA7_WEIGHTED</td>\n",
       "                        <td id=\"T_ef987_row5_col1\" class=\"data row5 col1\" >25.373541</td>\n",
       "                        <td id=\"T_ef987_row5_col2\" class=\"data row5 col2\" >4428578.540685</td>\n",
       "                        <td id=\"T_ef987_row5_col3\" class=\"data row5 col3\" >2104.418813</td>\n",
       "            </tr>\n",
       "            <tr>\n",
       "                                <td id=\"T_ef987_row6_col0\" class=\"data row6 col0\" >MA1</td>\n",
       "                        <td id=\"T_ef987_row6_col1\" class=\"data row6 col1\" >31.118702</td>\n",
       "                        <td id=\"T_ef987_row6_col2\" class=\"data row6 col2\" >7574874.745407</td>\n",
       "                        <td id=\"T_ef987_row6_col3\" class=\"data row6 col3\" >2752.249034</td>\n",
       "            </tr>\n",
       "            <tr>\n",
       "                                <td id=\"T_ef987_row7_col0\" class=\"data row7 col0\" >MA7</td>\n",
       "                        <td id=\"T_ef987_row7_col1\" class=\"data row7 col1\" >33.789800</td>\n",
       "                        <td id=\"T_ef987_row7_col2\" class=\"data row7 col2\" >9733491.132571</td>\n",
       "                        <td id=\"T_ef987_row7_col3\" class=\"data row7 col3\" >3119.854345</td>\n",
       "            </tr>\n",
       "            <tr>\n",
       "                                <td id=\"T_ef987_row8_col0\" class=\"data row8 col0\" >MA2</td>\n",
       "                        <td id=\"T_ef987_row8_col1\" class=\"data row8 col1\" >36.516799</td>\n",
       "                        <td id=\"T_ef987_row8_col2\" class=\"data row8 col2\" >11944379.414474</td>\n",
       "                        <td id=\"T_ef987_row8_col3\" class=\"data row8 col3\" >3456.064151</td>\n",
       "            </tr>\n",
       "            <tr>\n",
       "                                <td id=\"T_ef987_row9_col0\" class=\"data row9 col0\" >MA3</td>\n",
       "                        <td id=\"T_ef987_row9_col1\" class=\"data row9 col1\" >39.718155</td>\n",
       "                        <td id=\"T_ef987_row9_col2\" class=\"data row9 col2\" >14991195.867488</td>\n",
       "                        <td id=\"T_ef987_row9_col3\" class=\"data row9 col3\" >3871.846571</td>\n",
       "            </tr>\n",
       "    </tbody></table>"
      ],
      "text/plain": [
       "<pandas.io.formats.style.Styler at 0x7fa0e0b29d30>"
      ]
     },
     "execution_count": 3,
     "metadata": {},
     "output_type": "execute_result"
    }
   ],
   "source": [
    "df_cases = pd.DataFrame(p_cases)\n",
    "df_cases = df_cases.sort_values(by=['MAPE'])\n",
    "df_cases.style.hide_index()"
   ]
  },
  {
   "cell_type": "code",
   "execution_count": 4,
   "id": "swedish-peter",
   "metadata": {},
   "outputs": [],
   "source": [
    "p_deaths = {\"Model\": [\"MA1\", \n",
    "                      \"MA2\", \n",
    "                      \"MA3\", \n",
    "                      \"MA7\",\n",
    "                      \"MA1_LAG7\",\n",
    "                      \"Triple Exp Smooth\",\n",
    "                      \"Simple Exp Smooth\",\n",
    "                      \"ARIMA([1,5], 1, 0)\",\n",
    "                      \"ARIMA([1,5], 0, 0)\"\n",
    "                    ],\n",
    "           \n",
    "           \"MAPE\": [66.25288152051796, \n",
    "                    77.29995119181442, \n",
    "                    82.16785247972143, \n",
    "                    73.51420846851163,\n",
    "                    64.84814553741637,\n",
    "                    60.38389686465974,\n",
    "                    66.1775231729747,\n",
    "                    13.670948412441142,\n",
    "                    33.83236273684683,\n",
    "                   ],\n",
    "     \n",
    "            \"MSE\": [20852.817415730337, \n",
    "                    28908.85533707865, \n",
    "                    31983.966197183094, \n",
    "                    20368.945384972172, \n",
    "                    7663.017094017094,\n",
    "                    7048.383796701731,\n",
    "                    20851.507895515446, \n",
    "                    287.5726867822375,\n",
    "                    1856.1735200497283,\n",
    "                   ],\n",
    "\n",
    "            \"RMSE\": [144.4050463651819, \n",
    "                     170.02604311422016, \n",
    "                     178.84061674346546, \n",
    "                     142.7198142689801, \n",
    "                     87.53866056787191,\n",
    "                     83.95465321649378,\n",
    "                     144.40051210267728,\n",
    "                     16.957968238625686,\n",
    "                     43.083332276528104,\n",
    "                    ]\n",
    "}"
   ]
  },
  {
   "cell_type": "markdown",
   "id": "alien-copying",
   "metadata": {},
   "source": [
    "# DEATHS"
   ]
  },
  {
   "cell_type": "code",
   "execution_count": 5,
   "id": "vietnamese-italic",
   "metadata": {},
   "outputs": [
    {
     "data": {
      "text/html": [
       "<style  type=\"text/css\" >\n",
       "</style><table id=\"T_2fc75_\" ><thead>    <tr>        <th class=\"col_heading level0 col0\" >Model</th>        <th class=\"col_heading level0 col1\" >MAPE</th>        <th class=\"col_heading level0 col2\" >MSE</th>        <th class=\"col_heading level0 col3\" >RMSE</th>    </tr></thead><tbody>\n",
       "                <tr>\n",
       "                                <td id=\"T_2fc75_row0_col0\" class=\"data row0 col0\" >ARIMA([1,5], 1, 0)</td>\n",
       "                        <td id=\"T_2fc75_row0_col1\" class=\"data row0 col1\" >13.670948</td>\n",
       "                        <td id=\"T_2fc75_row0_col2\" class=\"data row0 col2\" >287.572687</td>\n",
       "                        <td id=\"T_2fc75_row0_col3\" class=\"data row0 col3\" >16.957968</td>\n",
       "            </tr>\n",
       "            <tr>\n",
       "                                <td id=\"T_2fc75_row1_col0\" class=\"data row1 col0\" >ARIMA([1,5], 0, 0)</td>\n",
       "                        <td id=\"T_2fc75_row1_col1\" class=\"data row1 col1\" >33.832363</td>\n",
       "                        <td id=\"T_2fc75_row1_col2\" class=\"data row1 col2\" >1856.173520</td>\n",
       "                        <td id=\"T_2fc75_row1_col3\" class=\"data row1 col3\" >43.083332</td>\n",
       "            </tr>\n",
       "            <tr>\n",
       "                                <td id=\"T_2fc75_row2_col0\" class=\"data row2 col0\" >Triple Exp Smooth</td>\n",
       "                        <td id=\"T_2fc75_row2_col1\" class=\"data row2 col1\" >60.383897</td>\n",
       "                        <td id=\"T_2fc75_row2_col2\" class=\"data row2 col2\" >7048.383797</td>\n",
       "                        <td id=\"T_2fc75_row2_col3\" class=\"data row2 col3\" >83.954653</td>\n",
       "            </tr>\n",
       "            <tr>\n",
       "                                <td id=\"T_2fc75_row3_col0\" class=\"data row3 col0\" >MA1_LAG7</td>\n",
       "                        <td id=\"T_2fc75_row3_col1\" class=\"data row3 col1\" >64.848146</td>\n",
       "                        <td id=\"T_2fc75_row3_col2\" class=\"data row3 col2\" >7663.017094</td>\n",
       "                        <td id=\"T_2fc75_row3_col3\" class=\"data row3 col3\" >87.538661</td>\n",
       "            </tr>\n",
       "            <tr>\n",
       "                                <td id=\"T_2fc75_row4_col0\" class=\"data row4 col0\" >Simple Exp Smooth</td>\n",
       "                        <td id=\"T_2fc75_row4_col1\" class=\"data row4 col1\" >66.177523</td>\n",
       "                        <td id=\"T_2fc75_row4_col2\" class=\"data row4 col2\" >20851.507896</td>\n",
       "                        <td id=\"T_2fc75_row4_col3\" class=\"data row4 col3\" >144.400512</td>\n",
       "            </tr>\n",
       "            <tr>\n",
       "                                <td id=\"T_2fc75_row5_col0\" class=\"data row5 col0\" >MA1</td>\n",
       "                        <td id=\"T_2fc75_row5_col1\" class=\"data row5 col1\" >66.252882</td>\n",
       "                        <td id=\"T_2fc75_row5_col2\" class=\"data row5 col2\" >20852.817416</td>\n",
       "                        <td id=\"T_2fc75_row5_col3\" class=\"data row5 col3\" >144.405046</td>\n",
       "            </tr>\n",
       "            <tr>\n",
       "                                <td id=\"T_2fc75_row6_col0\" class=\"data row6 col0\" >MA7</td>\n",
       "                        <td id=\"T_2fc75_row6_col1\" class=\"data row6 col1\" >73.514208</td>\n",
       "                        <td id=\"T_2fc75_row6_col2\" class=\"data row6 col2\" >20368.945385</td>\n",
       "                        <td id=\"T_2fc75_row6_col3\" class=\"data row6 col3\" >142.719814</td>\n",
       "            </tr>\n",
       "            <tr>\n",
       "                                <td id=\"T_2fc75_row7_col0\" class=\"data row7 col0\" >MA2</td>\n",
       "                        <td id=\"T_2fc75_row7_col1\" class=\"data row7 col1\" >77.299951</td>\n",
       "                        <td id=\"T_2fc75_row7_col2\" class=\"data row7 col2\" >28908.855337</td>\n",
       "                        <td id=\"T_2fc75_row7_col3\" class=\"data row7 col3\" >170.026043</td>\n",
       "            </tr>\n",
       "            <tr>\n",
       "                                <td id=\"T_2fc75_row8_col0\" class=\"data row8 col0\" >MA3</td>\n",
       "                        <td id=\"T_2fc75_row8_col1\" class=\"data row8 col1\" >82.167852</td>\n",
       "                        <td id=\"T_2fc75_row8_col2\" class=\"data row8 col2\" >31983.966197</td>\n",
       "                        <td id=\"T_2fc75_row8_col3\" class=\"data row8 col3\" >178.840617</td>\n",
       "            </tr>\n",
       "    </tbody></table>"
      ],
      "text/plain": [
       "<pandas.io.formats.style.Styler at 0x7fa0e322feb0>"
      ]
     },
     "execution_count": 5,
     "metadata": {},
     "output_type": "execute_result"
    }
   ],
   "source": [
    "df_deaths = pd.DataFrame(p_deaths)\n",
    "df_deaths = df_deaths.sort_values(by=['MAPE'])\n",
    "df_deaths.style.hide_index()"
   ]
  },
  {
   "cell_type": "code",
   "execution_count": 6,
   "id": "bizarre-collapse",
   "metadata": {},
   "outputs": [],
   "source": [
    "p_deaths_weekly = {\n",
    "    \"Model\": [\"WEEKLY-MA1\", \n",
    "              \"WEEKLY-MA2\", \n",
    "              \"WEEKLY-MA3\", \n",
    "             ],\n",
    "\n",
    "    \"MAPE\": [31.273406842466194,\n",
    "             39.977652686425955,\n",
    "             51.685498955057454\n",
    "            ],\n",
    "\n",
    "    \"MSE\": [4004.719887955183,\n",
    "            6936.210816326531,\n",
    "            10466.679392845574\n",
    "           ],\n",
    "\n",
    "    \"RMSE\": [63.282856193089,\n",
    "             83.2839169127301,\n",
    "             102.30679055099702\n",
    "            ]\n",
    "}"
   ]
  },
  {
   "cell_type": "markdown",
   "id": "urban-reproduction",
   "metadata": {},
   "source": [
    "# WEEKLY DEATHS"
   ]
  },
  {
   "cell_type": "code",
   "execution_count": 7,
   "id": "connected-kingston",
   "metadata": {},
   "outputs": [
    {
     "data": {
      "text/html": [
       "<style  type=\"text/css\" >\n",
       "</style><table id=\"T_717a5_\" ><thead>    <tr>        <th class=\"col_heading level0 col0\" >Model</th>        <th class=\"col_heading level0 col1\" >MAPE</th>        <th class=\"col_heading level0 col2\" >MSE</th>        <th class=\"col_heading level0 col3\" >RMSE</th>    </tr></thead><tbody>\n",
       "                <tr>\n",
       "                                <td id=\"T_717a5_row0_col0\" class=\"data row0 col0\" >WEEKLY-MA1</td>\n",
       "                        <td id=\"T_717a5_row0_col1\" class=\"data row0 col1\" >31.273407</td>\n",
       "                        <td id=\"T_717a5_row0_col2\" class=\"data row0 col2\" >4004.719888</td>\n",
       "                        <td id=\"T_717a5_row0_col3\" class=\"data row0 col3\" >63.282856</td>\n",
       "            </tr>\n",
       "            <tr>\n",
       "                                <td id=\"T_717a5_row1_col0\" class=\"data row1 col0\" >WEEKLY-MA2</td>\n",
       "                        <td id=\"T_717a5_row1_col1\" class=\"data row1 col1\" >39.977653</td>\n",
       "                        <td id=\"T_717a5_row1_col2\" class=\"data row1 col2\" >6936.210816</td>\n",
       "                        <td id=\"T_717a5_row1_col3\" class=\"data row1 col3\" >83.283917</td>\n",
       "            </tr>\n",
       "            <tr>\n",
       "                                <td id=\"T_717a5_row2_col0\" class=\"data row2 col0\" >WEEKLY-MA3</td>\n",
       "                        <td id=\"T_717a5_row2_col1\" class=\"data row2 col1\" >51.685499</td>\n",
       "                        <td id=\"T_717a5_row2_col2\" class=\"data row2 col2\" >10466.679393</td>\n",
       "                        <td id=\"T_717a5_row2_col3\" class=\"data row2 col3\" >102.306791</td>\n",
       "            </tr>\n",
       "    </tbody></table>"
      ],
      "text/plain": [
       "<pandas.io.formats.style.Styler at 0x7fa0e1f55dc0>"
      ]
     },
     "execution_count": 7,
     "metadata": {},
     "output_type": "execute_result"
    }
   ],
   "source": [
    "df_deaths_weekly = pd.DataFrame(p_deaths_weekly)\n",
    "df_deaths_weekly = df_deaths_weekly.sort_values(by=['MAPE'])\n",
    "df_deaths_weekly.style.hide_index()"
   ]
  },
  {
   "cell_type": "code",
   "execution_count": null,
   "id": "welcome-logistics",
   "metadata": {},
   "outputs": [],
   "source": []
  }
 ],
 "metadata": {
  "kernelspec": {
   "display_name": "Python 3",
   "language": "python",
   "name": "python3"
  },
  "language_info": {
   "codemirror_mode": {
    "name": "ipython",
    "version": 3
   },
   "file_extension": ".py",
   "mimetype": "text/x-python",
   "name": "python",
   "nbconvert_exporter": "python",
   "pygments_lexer": "ipython3",
   "version": "3.8.8"
  }
 },
 "nbformat": 4,
 "nbformat_minor": 5
}
